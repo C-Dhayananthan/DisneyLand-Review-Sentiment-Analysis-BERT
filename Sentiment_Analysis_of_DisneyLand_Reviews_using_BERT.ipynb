{
  "nbformat": 4,
  "nbformat_minor": 0,
  "metadata": {
    "colab": {
      "provenance": [],
      "gpuType": "T4"
    },
    "kernelspec": {
      "name": "python3",
      "display_name": "Python 3"
    },
    "language_info": {
      "name": "python"
    },
    "accelerator": "GPU"
  },
  "cells": [
    {
      "cell_type": "code",
      "source": [
        "!pip install -q -U \"tensorflow-text==2.11.*\""
      ],
      "metadata": {
        "colab": {
          "base_uri": "https://localhost:8080/"
        },
        "id": "wBVWTOKcStjm",
        "outputId": "ae5686ce-5e28-4900-fde8-923b89ba3fed"
      },
      "execution_count": 1,
      "outputs": [
        {
          "output_type": "stream",
          "name": "stdout",
          "text": [
            "\u001b[2K     \u001b[90m━━━━━━━━━━━━━━━━━━━━━━━━━━━━━━━━━━━━━━━━\u001b[0m \u001b[32m5.8/5.8 MB\u001b[0m \u001b[31m80.4 MB/s\u001b[0m eta \u001b[36m0:00:00\u001b[0m\n",
            "\u001b[2K     \u001b[90m━━━━━━━━━━━━━━━━━━━━━━━━━━━━━━━━━━━━━━━\u001b[0m \u001b[32m588.3/588.3 MB\u001b[0m \u001b[31m2.5 MB/s\u001b[0m eta \u001b[36m0:00:00\u001b[0m\n",
            "\u001b[2K     \u001b[90m━━━━━━━━━━━━━━━━━━━━━━━━━━━━━━━━━━━━━━━━\u001b[0m \u001b[32m1.7/1.7 MB\u001b[0m \u001b[31m45.2 MB/s\u001b[0m eta \u001b[36m0:00:00\u001b[0m\n",
            "\u001b[2K     \u001b[90m━━━━━━━━━━━━━━━━━━━━━━━━━━━━━━━━━━━━━━━━\u001b[0m \u001b[32m1.1/1.1 MB\u001b[0m \u001b[31m55.3 MB/s\u001b[0m eta \u001b[36m0:00:00\u001b[0m\n",
            "\u001b[2K     \u001b[90m━━━━━━━━━━━━━━━━━━━━━━━━━━━━━━━━━━━━━━━━\u001b[0m \u001b[32m6.0/6.0 MB\u001b[0m \u001b[31m81.3 MB/s\u001b[0m eta \u001b[36m0:00:00\u001b[0m\n",
            "\u001b[2K     \u001b[90m━━━━━━━━━━━━━━━━━━━━━━━━━━━━━━━━━━━━━━\u001b[0m \u001b[32m439.2/439.2 kB\u001b[0m \u001b[31m28.3 MB/s\u001b[0m eta \u001b[36m0:00:00\u001b[0m\n",
            "\u001b[2K     \u001b[90m━━━━━━━━━━━━━━━━━━━━━━━━━━━━━━━━━━━━━━━━\u001b[0m \u001b[32m4.9/4.9 MB\u001b[0m \u001b[31m63.3 MB/s\u001b[0m eta \u001b[36m0:00:00\u001b[0m\n",
            "\u001b[2K     \u001b[90m━━━━━━━━━━━━━━━━━━━━━━━━━━━━━━━━━━━━━━\u001b[0m \u001b[32m781.3/781.3 kB\u001b[0m \u001b[31m52.2 MB/s\u001b[0m eta \u001b[36m0:00:00\u001b[0m\n",
            "\u001b[?25h\u001b[31mERROR: pip's dependency resolver does not currently take into account all the packages that are installed. This behaviour is the source of the following dependency conflicts.\n",
            "tensorflow-datasets 4.9.2 requires protobuf>=3.20, but you have protobuf 3.19.6 which is incompatible.\n",
            "tensorflow-metadata 1.13.1 requires protobuf<5,>=3.20.3, but you have protobuf 3.19.6 which is incompatible.\u001b[0m\u001b[31m\n",
            "\u001b[0m"
          ]
        }
      ]
    },
    {
      "cell_type": "code",
      "source": [
        "!pip install -q tf-models-official==2.11.0"
      ],
      "metadata": {
        "colab": {
          "base_uri": "https://localhost:8080/"
        },
        "id": "IpkS7ZWSSu-9",
        "outputId": "4b8d7bf5-f1a2-4a5b-81fd-22c3a3296ff6"
      },
      "execution_count": 2,
      "outputs": [
        {
          "output_type": "stream",
          "name": "stdout",
          "text": [
            "\u001b[?25l     \u001b[90m━━━━━━━━━━━━━━━━━━━━━━━━━━━━━━━━━━━━━━━━\u001b[0m \u001b[32m0.0/2.3 MB\u001b[0m \u001b[31m?\u001b[0m eta \u001b[36m-:--:--\u001b[0m\r\u001b[2K     \u001b[91m━━━━━━━━━━━━━━━━━━━━━━━━━━━━━━━\u001b[0m\u001b[91m╸\u001b[0m\u001b[90m━━━━━━━━\u001b[0m \u001b[32m1.9/2.3 MB\u001b[0m \u001b[31m62.3 MB/s\u001b[0m eta \u001b[36m0:00:01\u001b[0m\r\u001b[2K     \u001b[90m━━━━━━━━━━━━━━━━━━━━━━━━━━━━━━━━━━━━━━━━\u001b[0m \u001b[32m2.3/2.3 MB\u001b[0m \u001b[31m33.1 MB/s\u001b[0m eta \u001b[36m0:00:00\u001b[0m\n",
            "\u001b[?25h\u001b[31mERROR: Could not find a version that satisfies the requirement opencv-python-headless==4.5.2.52 (from tf-models-official) (from versions: 3.4.10.37, 3.4.11.39, 3.4.11.41, 3.4.11.43, 3.4.11.45, 3.4.13.47, 3.4.15.55, 3.4.16.59, 3.4.17.61, 3.4.17.63, 3.4.18.65, 4.3.0.38, 4.4.0.40, 4.4.0.42, 4.4.0.44, 4.4.0.46, 4.5.1.48, 4.5.3.56, 4.5.4.58, 4.5.4.60, 4.5.5.62, 4.5.5.64, 4.6.0.66, 4.7.0.68, 4.7.0.72)\u001b[0m\u001b[31m\n",
            "\u001b[0m\u001b[31mERROR: No matching distribution found for opencv-python-headless==4.5.2.52\u001b[0m\u001b[31m\n",
            "\u001b[0m"
          ]
        }
      ]
    },
    {
      "cell_type": "code",
      "source": [
        "!git clone https://github.com/tensorflow/models.git\n",
        "\n",
        "import os\n",
        "os.environ['PYTHONPATH'] += \":/content/models\"\n",
        "\n",
        "import sys\n",
        "sys.path.append(\"/content/models\")"
      ],
      "metadata": {
        "colab": {
          "base_uri": "https://localhost:8080/"
        },
        "id": "VfcaoB3BS6Sn",
        "outputId": "d4d6c7bf-c8c0-4be6-8417-8480594edb4f"
      },
      "execution_count": 3,
      "outputs": [
        {
          "output_type": "stream",
          "name": "stdout",
          "text": [
            "Cloning into 'models'...\n",
            "remote: Enumerating objects: 86228, done.\u001b[K\n",
            "remote: Counting objects: 100% (1827/1827), done.\u001b[K\n",
            "remote: Compressing objects: 100% (768/768), done.\u001b[K\n",
            "remote: Total 86228 (delta 1170), reused 1655 (delta 1040), pack-reused 84401\u001b[K\n",
            "Receiving objects: 100% (86228/86228), 598.90 MiB | 12.46 MiB/s, done.\n",
            "Resolving deltas: 100% (61672/61672), done.\n",
            "Updating files: 100% (3539/3539), done.\n"
          ]
        }
      ]
    },
    {
      "cell_type": "code",
      "execution_count": 4,
      "metadata": {
        "id": "LguVBnhfSoLR"
      },
      "outputs": [],
      "source": [
        "import pandas as pd\n",
        "import numpy as np\n",
        "import tensorflow as tf\n",
        "import tensorflow_hub as hub\n",
        "import tensorflow_text as text\n",
        "from official.nlp import optimization\n",
        "import matplotlib.pyplot as plt\n",
        "tf.get_logger().setLevel(\"ERROR\")"
      ]
    },
    {
      "cell_type": "code",
      "source": [
        "from keras.utils.np_utils import to_categorical"
      ],
      "metadata": {
        "id": "EAQ-FAL-Z-ZL"
      },
      "execution_count": 5,
      "outputs": []
    },
    {
      "cell_type": "markdown",
      "source": [
        "# Data Preprocessing"
      ],
      "metadata": {
        "id": "CQxBGCZIGt23"
      }
    },
    {
      "cell_type": "code",
      "source": [
        "data = pd.read_csv(\"/content/drive/MyDrive/disney/data2.csv\")"
      ],
      "metadata": {
        "id": "v9NUWsKbTUZm"
      },
      "execution_count": null,
      "outputs": []
    },
    {
      "cell_type": "code",
      "source": [
        "#data[\"Sentiment\"] = data[\"Sentiment\"].map({\"Satisfied\":0 , \"Neutral\":1 ,\"Unsatisfied\":2})"
      ],
      "metadata": {
        "id": "W1rR5uatrFYI"
      },
      "execution_count": null,
      "outputs": []
    },
    {
      "cell_type": "code",
      "source": [
        "#data[[\"Review_Text\",\"Sentiment\"]].to_csv(\"/content/drive/MyDrive/disney/data_new.csv\",index= False)"
      ],
      "metadata": {
        "id": "dNdE81EmUiXl"
      },
      "execution_count": null,
      "outputs": []
    },
    {
      "cell_type": "code",
      "source": [
        "data2 = pd.read_csv(\"/content/drive/MyDrive/disney/data_new.csv\")"
      ],
      "metadata": {
        "id": "CybjU5pzU3OC"
      },
      "execution_count": null,
      "outputs": []
    },
    {
      "cell_type": "code",
      "source": [
        "from sklearn.model_selection import train_test_split"
      ],
      "metadata": {
        "id": "hZo6_FTVd22b"
      },
      "execution_count": null,
      "outputs": []
    },
    {
      "cell_type": "code",
      "source": [
        "X_train,X_test,y_train,y_test = train_test_split(data2[\"Review_Text\"],data2[\"Sentiment\"],test_size = 0.2 ,stratify = data2[\"Sentiment\"])"
      ],
      "metadata": {
        "id": "kVe57FyOd-Hk"
      },
      "execution_count": null,
      "outputs": []
    },
    {
      "cell_type": "code",
      "source": [],
      "metadata": {
        "id": "jRNb51eP1vKR"
      },
      "execution_count": null,
      "outputs": []
    },
    {
      "cell_type": "code",
      "source": [
        "TRAIN = pd.DataFrame({\"Review_Text\":X_train,\"Sentiment\":y_train})\n",
        "TEST = pd.DataFrame({\"Review_Text\":X_test,\"Sentiment\":y_test})\n",
        "TRAIN.to_csv('/content/drive/MyDrive/disney/dataset/train.csv',index=False)\n",
        "TEST.to_csv(\"/content/drive/MyDrive/disney/dataset/test.csv\",index = False)"
      ],
      "metadata": {
        "id": "PvQmE5BLemy7"
      },
      "execution_count": null,
      "outputs": []
    },
    {
      "cell_type": "code",
      "source": [
        "AUTOTUNE = tf.data.AUTOTUNE\n",
        "batch_size = 32\n",
        "seed = 42"
      ],
      "metadata": {
        "id": "wQIQhhsFh-tT"
      },
      "execution_count": null,
      "outputs": []
    },
    {
      "cell_type": "code",
      "source": [
        "#batch_size = 64\n",
        "#dataset = tf.data.experimental.make_csv_dataset(\"/content/drive/MyDrive/disney/dataset/train.csv\",\n",
        "#                                      batch_size=batch_size,\n",
        "#                                      label_name = \"Sentiment\",select_columns=['Review_Text', 'Sentiment'])"
      ],
      "metadata": {
        "id": "HJzmeYuVVlKd"
      },
      "execution_count": null,
      "outputs": []
    },
    {
      "cell_type": "code",
      "source": [
        "#DATASET_SIZE =pd.read_csv(\"/content/drive/MyDrive/disney/dataset/train.csv\").shape[0]"
      ],
      "metadata": {
        "id": "4cLRfkCLoB1J"
      },
      "execution_count": null,
      "outputs": []
    },
    {
      "cell_type": "code",
      "source": [
        "disney = pd.read_csv(\"/content/drive/MyDrive/disney/dataset/train.csv\")\n",
        "label = disney.pop(\"Sentiment\")\n",
        "label = to_categorical(label)"
      ],
      "metadata": {
        "id": "tkgDDLtgZq01"
      },
      "execution_count": null,
      "outputs": []
    },
    {
      "cell_type": "code",
      "source": [
        "input = disney.values.ravel()\n",
        "data_slices =  tf.data.Dataset.from_tensor_slices((input,label))\n",
        "dataset = data_slices.batch(64)"
      ],
      "metadata": {
        "id": "2As0pXB3SeCQ"
      },
      "execution_count": null,
      "outputs": []
    },
    {
      "cell_type": "code",
      "source": [
        "test_data = pd.read_csv(\"/content/drive/MyDrive/disney/dataset/test.csv\")\n",
        "label_test = test_data.pop(\"Sentiment\")\n",
        "label_test = to_categorical(label_test)\n",
        "test_data_sliced = tf.data.Dataset.from_tensor_slices((test_data.values.ravel(),label_test))\n",
        "test_dataset = test_data_sliced.batch(64)\n",
        "test_dataset = test_dataset.prefetch(buffer_size=AUTOTUNE)"
      ],
      "metadata": {
        "id": "m3yFNDc80Rp6"
      },
      "execution_count": null,
      "outputs": []
    },
    {
      "cell_type": "code",
      "source": [],
      "metadata": {
        "id": "7CCb2_cr10P2"
      },
      "execution_count": null,
      "outputs": []
    },
    {
      "cell_type": "code",
      "source": [
        "DATASET_SIZE = len(input)"
      ],
      "metadata": {
        "id": "z6I_XIidcuet"
      },
      "execution_count": null,
      "outputs": []
    },
    {
      "cell_type": "code",
      "source": [
        "train_size = int(0.9*len(input))\n",
        "val_size = int(0.1*len(input))"
      ],
      "metadata": {
        "id": "qWq8cz32kxfb"
      },
      "execution_count": null,
      "outputs": []
    },
    {
      "cell_type": "code",
      "source": [
        "raw_data_train = dataset.take(train_size)\n",
        "raw_data_val = dataset.skip(train_size)"
      ],
      "metadata": {
        "id": "hhFF01_la1gO"
      },
      "execution_count": null,
      "outputs": []
    },
    {
      "cell_type": "code",
      "source": [
        "data_train = raw_data_train.cache().prefetch(buffer_size=AUTOTUNE)\n",
        "data_val = raw_data_val.cache().prefetch(buffer_size=AUTOTUNE)"
      ],
      "metadata": {
        "id": "EWgEdxQiootG"
      },
      "execution_count": null,
      "outputs": []
    },
    {
      "cell_type": "code",
      "source": [
        "data_train"
      ],
      "metadata": {
        "colab": {
          "base_uri": "https://localhost:8080/"
        },
        "id": "mDKG-F_YNiYo",
        "outputId": "23a0eb04-91b3-46ab-d8ee-f4d880212930"
      },
      "execution_count": null,
      "outputs": [
        {
          "output_type": "execute_result",
          "data": {
            "text/plain": [
              "<PrefetchDataset element_spec=(TensorSpec(shape=(None,), dtype=tf.string, name=None), TensorSpec(shape=(None, 3), dtype=tf.float32, name=None))>"
            ]
          },
          "metadata": {},
          "execution_count": 54
        }
      ]
    },
    {
      "cell_type": "code",
      "execution_count": null,
      "metadata": {
        "outputId": "2511d889-d5ad-42bf-9583-20a009de5121",
        "colab": {
          "base_uri": "https://localhost:8080/"
        },
        "id": "Pr7rw3hjvDPY"
      },
      "outputs": [
        {
          "output_type": "stream",
          "name": "stdout",
          "text": [
            "BERT model selected           : https://tfhub.dev/tensorflow/small_bert/bert_en_uncased_L-4_H-512_A-8/1\n",
            "Preprocess model auto-selected: https://tfhub.dev/tensorflow/bert_en_uncased_preprocess/3\n"
          ]
        }
      ],
      "source": [
        "#@title Choose a BERT model to fine-tune\n",
        "\n",
        "bert_model_name = 'small_bert/bert_en_uncased_L-4_H-512_A-8'  #@param [\"bert_en_uncased_L-12_H-768_A-12\", \"bert_en_cased_L-12_H-768_A-12\", \"bert_multi_cased_L-12_H-768_A-12\", \"small_bert/bert_en_uncased_L-2_H-128_A-2\", \"small_bert/bert_en_uncased_L-2_H-256_A-4\", \"small_bert/bert_en_uncased_L-2_H-512_A-8\", \"small_bert/bert_en_uncased_L-2_H-768_A-12\", \"small_bert/bert_en_uncased_L-4_H-128_A-2\", \"small_bert/bert_en_uncased_L-4_H-256_A-4\", \"small_bert/bert_en_uncased_L-4_H-512_A-8\", \"small_bert/bert_en_uncased_L-4_H-768_A-12\", \"small_bert/bert_en_uncased_L-6_H-128_A-2\", \"small_bert/bert_en_uncased_L-6_H-256_A-4\", \"small_bert/bert_en_uncased_L-6_H-512_A-8\", \"small_bert/bert_en_uncased_L-6_H-768_A-12\", \"small_bert/bert_en_uncased_L-8_H-128_A-2\", \"small_bert/bert_en_uncased_L-8_H-256_A-4\", \"small_bert/bert_en_uncased_L-8_H-512_A-8\", \"small_bert/bert_en_uncased_L-8_H-768_A-12\", \"small_bert/bert_en_uncased_L-10_H-128_A-2\", \"small_bert/bert_en_uncased_L-10_H-256_A-4\", \"small_bert/bert_en_uncased_L-10_H-512_A-8\", \"small_bert/bert_en_uncased_L-10_H-768_A-12\", \"small_bert/bert_en_uncased_L-12_H-128_A-2\", \"small_bert/bert_en_uncased_L-12_H-256_A-4\", \"small_bert/bert_en_uncased_L-12_H-512_A-8\", \"small_bert/bert_en_uncased_L-12_H-768_A-12\", \"albert_en_base\", \"electra_small\", \"electra_base\", \"experts_pubmed\", \"experts_wiki_books\", \"talking-heads_base\"]\n",
        "\n",
        "map_name_to_handle = {\n",
        "    'bert_en_uncased_L-12_H-768_A-12':\n",
        "        'https://tfhub.dev/tensorflow/bert_en_uncased_L-12_H-768_A-12/3',\n",
        "    'bert_en_cased_L-12_H-768_A-12':\n",
        "        'https://tfhub.dev/tensorflow/bert_en_cased_L-12_H-768_A-12/3',\n",
        "    'bert_multi_cased_L-12_H-768_A-12':\n",
        "        'https://tfhub.dev/tensorflow/bert_multi_cased_L-12_H-768_A-12/3',\n",
        "    'small_bert/bert_en_uncased_L-2_H-128_A-2':\n",
        "        'https://tfhub.dev/tensorflow/small_bert/bert_en_uncased_L-2_H-128_A-2/1',\n",
        "    'small_bert/bert_en_uncased_L-2_H-256_A-4':\n",
        "        'https://tfhub.dev/tensorflow/small_bert/bert_en_uncased_L-2_H-256_A-4/1',\n",
        "    'small_bert/bert_en_uncased_L-2_H-512_A-8':\n",
        "        'https://tfhub.dev/tensorflow/small_bert/bert_en_uncased_L-2_H-512_A-8/1',\n",
        "    'small_bert/bert_en_uncased_L-2_H-768_A-12':\n",
        "        'https://tfhub.dev/tensorflow/small_bert/bert_en_uncased_L-2_H-768_A-12/1',\n",
        "    'small_bert/bert_en_uncased_L-4_H-128_A-2':\n",
        "        'https://tfhub.dev/tensorflow/small_bert/bert_en_uncased_L-4_H-128_A-2/1',\n",
        "    'small_bert/bert_en_uncased_L-4_H-256_A-4':\n",
        "        'https://tfhub.dev/tensorflow/small_bert/bert_en_uncased_L-4_H-256_A-4/1',\n",
        "    'small_bert/bert_en_uncased_L-4_H-512_A-8':\n",
        "        'https://tfhub.dev/tensorflow/small_bert/bert_en_uncased_L-4_H-512_A-8/1',\n",
        "    'small_bert/bert_en_uncased_L-4_H-768_A-12':\n",
        "        'https://tfhub.dev/tensorflow/small_bert/bert_en_uncased_L-4_H-768_A-12/1',\n",
        "    'small_bert/bert_en_uncased_L-6_H-128_A-2':\n",
        "        'https://tfhub.dev/tensorflow/small_bert/bert_en_uncased_L-6_H-128_A-2/1',\n",
        "    'small_bert/bert_en_uncased_L-6_H-256_A-4':\n",
        "        'https://tfhub.dev/tensorflow/small_bert/bert_en_uncased_L-6_H-256_A-4/1',\n",
        "    'small_bert/bert_en_uncased_L-6_H-512_A-8':\n",
        "        'https://tfhub.dev/tensorflow/small_bert/bert_en_uncased_L-6_H-512_A-8/1',\n",
        "    'small_bert/bert_en_uncased_L-6_H-768_A-12':\n",
        "        'https://tfhub.dev/tensorflow/small_bert/bert_en_uncased_L-6_H-768_A-12/1',\n",
        "    'small_bert/bert_en_uncased_L-8_H-128_A-2':\n",
        "        'https://tfhub.dev/tensorflow/small_bert/bert_en_uncased_L-8_H-128_A-2/1',\n",
        "    'small_bert/bert_en_uncased_L-8_H-256_A-4':\n",
        "        'https://tfhub.dev/tensorflow/small_bert/bert_en_uncased_L-8_H-256_A-4/1',\n",
        "    'small_bert/bert_en_uncased_L-8_H-512_A-8':\n",
        "        'https://tfhub.dev/tensorflow/small_bert/bert_en_uncased_L-8_H-512_A-8/1',\n",
        "    'small_bert/bert_en_uncased_L-8_H-768_A-12':\n",
        "        'https://tfhub.dev/tensorflow/small_bert/bert_en_uncased_L-8_H-768_A-12/1',\n",
        "    'small_bert/bert_en_uncased_L-10_H-128_A-2':\n",
        "        'https://tfhub.dev/tensorflow/small_bert/bert_en_uncased_L-10_H-128_A-2/1',\n",
        "    'small_bert/bert_en_uncased_L-10_H-256_A-4':\n",
        "        'https://tfhub.dev/tensorflow/small_bert/bert_en_uncased_L-10_H-256_A-4/1',\n",
        "    'small_bert/bert_en_uncased_L-10_H-512_A-8':\n",
        "        'https://tfhub.dev/tensorflow/small_bert/bert_en_uncased_L-10_H-512_A-8/1',\n",
        "    'small_bert/bert_en_uncased_L-10_H-768_A-12':\n",
        "        'https://tfhub.dev/tensorflow/small_bert/bert_en_uncased_L-10_H-768_A-12/1',\n",
        "    'small_bert/bert_en_uncased_L-12_H-128_A-2':\n",
        "        'https://tfhub.dev/tensorflow/small_bert/bert_en_uncased_L-12_H-128_A-2/1',\n",
        "    'small_bert/bert_en_uncased_L-12_H-256_A-4':\n",
        "        'https://tfhub.dev/tensorflow/small_bert/bert_en_uncased_L-12_H-256_A-4/1',\n",
        "    'small_bert/bert_en_uncased_L-12_H-512_A-8':\n",
        "        'https://tfhub.dev/tensorflow/small_bert/bert_en_uncased_L-12_H-512_A-8/1',\n",
        "    'small_bert/bert_en_uncased_L-12_H-768_A-12':\n",
        "        'https://tfhub.dev/tensorflow/small_bert/bert_en_uncased_L-12_H-768_A-12/1',\n",
        "    'albert_en_base':\n",
        "        'https://tfhub.dev/tensorflow/albert_en_base/2',\n",
        "    'electra_small':\n",
        "        'https://tfhub.dev/google/electra_small/2',\n",
        "    'electra_base':\n",
        "        'https://tfhub.dev/google/electra_base/2',\n",
        "    'experts_pubmed':\n",
        "        'https://tfhub.dev/google/experts/bert/pubmed/2',\n",
        "    'experts_wiki_books':\n",
        "        'https://tfhub.dev/google/experts/bert/wiki_books/2',\n",
        "    'talking-heads_base':\n",
        "        'https://tfhub.dev/tensorflow/talkheads_ggelu_bert_en_base/1',\n",
        "}\n",
        "\n",
        "map_model_to_preprocess = {\n",
        "    'bert_en_uncased_L-12_H-768_A-12':\n",
        "        'https://tfhub.dev/tensorflow/bert_en_uncased_preprocess/3',\n",
        "    'bert_en_cased_L-12_H-768_A-12':\n",
        "        'https://tfhub.dev/tensorflow/bert_en_cased_preprocess/3',\n",
        "    'small_bert/bert_en_uncased_L-2_H-128_A-2':\n",
        "        'https://tfhub.dev/tensorflow/bert_en_uncased_preprocess/3',\n",
        "    'small_bert/bert_en_uncased_L-2_H-256_A-4':\n",
        "        'https://tfhub.dev/tensorflow/bert_en_uncased_preprocess/3',\n",
        "    'small_bert/bert_en_uncased_L-2_H-512_A-8':\n",
        "        'https://tfhub.dev/tensorflow/bert_en_uncased_preprocess/3',\n",
        "    'small_bert/bert_en_uncased_L-2_H-768_A-12':\n",
        "        'https://tfhub.dev/tensorflow/bert_en_uncased_preprocess/3',\n",
        "    'small_bert/bert_en_uncased_L-4_H-128_A-2':\n",
        "        'https://tfhub.dev/tensorflow/bert_en_uncased_preprocess/3',\n",
        "    'small_bert/bert_en_uncased_L-4_H-256_A-4':\n",
        "        'https://tfhub.dev/tensorflow/bert_en_uncased_preprocess/3',\n",
        "    'small_bert/bert_en_uncased_L-4_H-512_A-8':\n",
        "        'https://tfhub.dev/tensorflow/bert_en_uncased_preprocess/3',\n",
        "    'small_bert/bert_en_uncased_L-4_H-768_A-12':\n",
        "        'https://tfhub.dev/tensorflow/bert_en_uncased_preprocess/3',\n",
        "    'small_bert/bert_en_uncased_L-6_H-128_A-2':\n",
        "        'https://tfhub.dev/tensorflow/bert_en_uncased_preprocess/3',\n",
        "    'small_bert/bert_en_uncased_L-6_H-256_A-4':\n",
        "        'https://tfhub.dev/tensorflow/bert_en_uncased_preprocess/3',\n",
        "    'small_bert/bert_en_uncased_L-6_H-512_A-8':\n",
        "        'https://tfhub.dev/tensorflow/bert_en_uncased_preprocess/3',\n",
        "    'small_bert/bert_en_uncased_L-6_H-768_A-12':\n",
        "        'https://tfhub.dev/tensorflow/bert_en_uncased_preprocess/3',\n",
        "    'small_bert/bert_en_uncased_L-8_H-128_A-2':\n",
        "        'https://tfhub.dev/tensorflow/bert_en_uncased_preprocess/3',\n",
        "    'small_bert/bert_en_uncased_L-8_H-256_A-4':\n",
        "        'https://tfhub.dev/tensorflow/bert_en_uncased_preprocess/3',\n",
        "    'small_bert/bert_en_uncased_L-8_H-512_A-8':\n",
        "        'https://tfhub.dev/tensorflow/bert_en_uncased_preprocess/3',\n",
        "    'small_bert/bert_en_uncased_L-8_H-768_A-12':\n",
        "        'https://tfhub.dev/tensorflow/bert_en_uncased_preprocess/3',\n",
        "    'small_bert/bert_en_uncased_L-10_H-128_A-2':\n",
        "        'https://tfhub.dev/tensorflow/bert_en_uncased_preprocess/3',\n",
        "    'small_bert/bert_en_uncased_L-10_H-256_A-4':\n",
        "        'https://tfhub.dev/tensorflow/bert_en_uncased_preprocess/3',\n",
        "    'small_bert/bert_en_uncased_L-10_H-512_A-8':\n",
        "        'https://tfhub.dev/tensorflow/bert_en_uncased_preprocess/3',\n",
        "    'small_bert/bert_en_uncased_L-10_H-768_A-12':\n",
        "        'https://tfhub.dev/tensorflow/bert_en_uncased_preprocess/3',\n",
        "    'small_bert/bert_en_uncased_L-12_H-128_A-2':\n",
        "        'https://tfhub.dev/tensorflow/bert_en_uncased_preprocess/3',\n",
        "    'small_bert/bert_en_uncased_L-12_H-256_A-4':\n",
        "        'https://tfhub.dev/tensorflow/bert_en_uncased_preprocess/3',\n",
        "    'small_bert/bert_en_uncased_L-12_H-512_A-8':\n",
        "        'https://tfhub.dev/tensorflow/bert_en_uncased_preprocess/3',\n",
        "    'small_bert/bert_en_uncased_L-12_H-768_A-12':\n",
        "        'https://tfhub.dev/tensorflow/bert_en_uncased_preprocess/3',\n",
        "    'bert_multi_cased_L-12_H-768_A-12':\n",
        "        'https://tfhub.dev/tensorflow/bert_multi_cased_preprocess/3',\n",
        "    'albert_en_base':\n",
        "        'https://tfhub.dev/tensorflow/albert_en_preprocess/3',\n",
        "    'electra_small':\n",
        "        'https://tfhub.dev/tensorflow/bert_en_uncased_preprocess/3',\n",
        "    'electra_base':\n",
        "        'https://tfhub.dev/tensorflow/bert_en_uncased_preprocess/3',\n",
        "    'experts_pubmed':\n",
        "        'https://tfhub.dev/tensorflow/bert_en_uncased_preprocess/3',\n",
        "    'experts_wiki_books':\n",
        "        'https://tfhub.dev/tensorflow/bert_en_uncased_preprocess/3',\n",
        "    'talking-heads_base':\n",
        "        'https://tfhub.dev/tensorflow/bert_en_uncased_preprocess/3',\n",
        "}\n",
        "\n",
        "tfhub_handle_encoder = map_name_to_handle[bert_model_name]\n",
        "tfhub_handle_preprocess = map_model_to_preprocess[bert_model_name]\n",
        "\n",
        "print(f'BERT model selected           : {tfhub_handle_encoder}')\n",
        "print(f'Preprocess model auto-selected: {tfhub_handle_preprocess}')"
      ]
    },
    {
      "cell_type": "code",
      "source": [
        "bert_preprocess_model = hub.KerasLayer(tfhub_handle_preprocess)"
      ],
      "metadata": {
        "id": "hLR9CCz1uH-u"
      },
      "execution_count": null,
      "outputs": []
    },
    {
      "cell_type": "code",
      "source": [
        "text_test = ['London bridge is falling down']\n",
        "text_preprocessed = bert_preprocess_model(text_test)\n",
        "\n",
        "print(f'Keys       : {list(text_preprocessed.keys())}')\n",
        "print(f'Shape      : {text_preprocessed[\"input_word_ids\"].shape}')\n",
        "print(f'Word Ids   : {text_preprocessed[\"input_word_ids\"][0, :12]}')\n",
        "print(f'Input Mask : {text_preprocessed[\"input_mask\"][0, :12]}')\n",
        "print(f'Type Ids   : {text_preprocessed[\"input_type_ids\"][0, :12]}')"
      ],
      "metadata": {
        "colab": {
          "base_uri": "https://localhost:8080/"
        },
        "id": "qmz9T-ayvoAM",
        "outputId": "87a107f1-9fc5-466f-d075-91f135195911"
      },
      "execution_count": null,
      "outputs": [
        {
          "output_type": "stream",
          "name": "stdout",
          "text": [
            "Keys       : ['input_mask', 'input_word_ids', 'input_type_ids']\n",
            "Shape      : (1, 128)\n",
            "Word Ids   : [ 101 2414 2958 2003 4634 2091  102    0    0    0    0    0]\n",
            "Input Mask : [1 1 1 1 1 1 1 0 0 0 0 0]\n",
            "Type Ids   : [0 0 0 0 0 0 0 0 0 0 0 0]\n"
          ]
        }
      ]
    },
    {
      "cell_type": "code",
      "source": [
        "bert_model = hub.KerasLayer(tfhub_handle_encoder)"
      ],
      "metadata": {
        "id": "pTGfl2Bhw-Wm"
      },
      "execution_count": null,
      "outputs": []
    },
    {
      "cell_type": "markdown",
      "source": [
        "# Building Model"
      ],
      "metadata": {
        "id": "gWzMelCwHX-R"
      }
    },
    {
      "cell_type": "code",
      "source": [
        "def build_classifier_model():\n",
        "  text_input = tf.keras.layers.Input(shape = (),dtype = tf.string , name = \"text\")\n",
        "  preprocessing_layer = hub.KerasLayer(tfhub_handle_preprocess, name = \"preprocessing\")\n",
        "  encoder_inputs = preprocessing_layer(text_input)\n",
        "  encoder = hub.KerasLayer(tfhub_handle_encoder , trainable=True,name = \"bertmodel\")\n",
        "  outputs = encoder(encoder_inputs)\n",
        "  net = outputs[\"pooled_output\"]\n",
        "  net = tf.keras.layers.Dropout(0.1)(net)\n",
        "  net = tf.keras.layers.Dense(3, activation=None, name='classifier')(net)\n",
        "  return tf.keras.Model(text_input,net)"
      ],
      "metadata": {
        "id": "ZFInzm5dybxH"
      },
      "execution_count": null,
      "outputs": []
    },
    {
      "cell_type": "code",
      "source": [
        "classifier_model = build_classifier_model()"
      ],
      "metadata": {
        "id": "tD1KfaCR3mIw"
      },
      "execution_count": null,
      "outputs": []
    },
    {
      "cell_type": "code",
      "source": [
        "text_test = ['London bridge is falling down']\n",
        "bert_check = classifier_model(tf.constant(['London bridge is falling down']))"
      ],
      "metadata": {
        "id": "FFRIxjUn3_So"
      },
      "execution_count": null,
      "outputs": []
    },
    {
      "cell_type": "code",
      "source": [
        "bert_check"
      ],
      "metadata": {
        "colab": {
          "base_uri": "https://localhost:8080/"
        },
        "id": "4nrL-wAucBF1",
        "outputId": "f7fb51ae-9ae7-4494-f6a3-93f8e87d1569"
      },
      "execution_count": null,
      "outputs": [
        {
          "output_type": "execute_result",
          "data": {
            "text/plain": [
              "<tf.Tensor: shape=(1, 3), dtype=float32, numpy=array([[1.1783025 , 0.24601911, 0.48715037]], dtype=float32)>"
            ]
          },
          "metadata": {},
          "execution_count": 32
        }
      ]
    },
    {
      "cell_type": "code",
      "source": [
        "tf.keras.utils.plot_model(classifier_model)"
      ],
      "metadata": {
        "colab": {
          "base_uri": "https://localhost:8080/",
          "height": 466
        },
        "id": "Evepngd45Uv3",
        "outputId": "5f6ab326-6ec7-4157-824b-ae76d919e660"
      },
      "execution_count": null,
      "outputs": [
        {
          "output_type": "execute_result",
          "data": {
            "image/png": "[encoded data removed]",
            "text/plain": [
              "<IPython.core.display.Image object>"
            ]
          },
          "metadata": {},
          "execution_count": 33
        }
      ]
    },
    {
      "cell_type": "code",
      "source": [
        "loss = tf.keras.losses.CategoricalCrossentropy(from_logits=True)\n",
        "metrics = tf.metrics.CategoricalAccuracy()"
      ],
      "metadata": {
        "id": "q3rIalTG5W0v"
      },
      "execution_count": null,
      "outputs": []
    },
    {
      "cell_type": "code",
      "source": [
        "epochs = 10\n",
        "steps_per_epoch =   tf.data.experimental.cardinality(data_train).numpy()\n",
        "num_train_steps = epochs*steps_per_epoch\n",
        "num_warmup_steps = int(0.1*num_train_steps)\n",
        "print(\"Steps per epochs \", int(steps_per_epoch))\n",
        "print(\"num_train_steps \", int(num_train_steps))"
      ],
      "metadata": {
        "colab": {
          "base_uri": "https://localhost:8080/"
        },
        "id": "qIkuUP647rIu",
        "outputId": "fe4a0ce6-a293-4f50-f009-3ccf77b4af23"
      },
      "execution_count": null,
      "outputs": [
        {
          "output_type": "stream",
          "name": "stdout",
          "text": [
            "Steps per epochs  534\n",
            "num_train_steps  5340\n"
          ]
        }
      ]
    },
    {
      "cell_type": "code",
      "source": [
        "init_lr = 3e-5\n",
        "optimizer = optimization.create_optimizer(init_lr=init_lr,\n",
        "                                          num_train_steps=num_train_steps,\n",
        "                                          num_warmup_steps=num_warmup_steps,\n",
        "                                          optimizer_type='adamw')"
      ],
      "metadata": {
        "id": "kkJqxW8W8wgg"
      },
      "execution_count": null,
      "outputs": []
    },
    {
      "cell_type": "code",
      "source": [
        "classifier_model.compile(optimizer=optimizer,\n",
        "                         loss=loss,\n",
        "                         metrics=metrics)"
      ],
      "metadata": {
        "id": "zxWWT_jD9Tof"
      },
      "execution_count": null,
      "outputs": []
    },
    {
      "cell_type": "code",
      "source": [
        "print(f'Training model with {tfhub_handle_encoder}')\n",
        "model_checkpoint_callback = tf.keras.callbacks.ModelCheckpoint(filepath=\"checkpoint/\",\n",
        "    save_weights_only=True,\n",
        "    monitor='loss',\n",
        "    mode='max',\n",
        "    save_best_only=True)\n",
        "callback = tf.keras.callbacks.EarlyStopping(monitor='loss', patience=3)\n",
        "history = classifier_model.fit(x=data_train,\n",
        "                               validation_data=data_val,\n",
        "                               callbacks=[callback,model_checkpoint_callback],\n",
        "                               epochs=epochs)"
      ],
      "metadata": {
        "colab": {
          "base_uri": "https://localhost:8080/"
        },
        "id": "NLXaRzZQ-YJQ",
        "outputId": "952137b5-d716-4bb1-97f0-8c1143feb568"
      },
      "execution_count": null,
      "outputs": [
        {
          "output_type": "stream",
          "name": "stdout",
          "text": [
            "Training model with https://tfhub.dev/tensorflow/small_bert/bert_en_uncased_L-4_H-512_A-8/1\n",
            "Epoch 1/10\n",
            "534/534 [==============================] - 285s 525ms/step - loss: 0.5007 - categorical_accuracy: 0.8108\n",
            "Epoch 2/10\n",
            "534/534 [==============================] - 280s 525ms/step - loss: 0.3947 - categorical_accuracy: 0.8434\n",
            "Epoch 3/10\n",
            "534/534 [==============================] - 279s 523ms/step - loss: 0.3327 - categorical_accuracy: 0.8661\n",
            "Epoch 4/10\n",
            "534/534 [==============================] - 280s 524ms/step - loss: 0.2878 - categorical_accuracy: 0.8854\n",
            "Epoch 5/10\n",
            "534/534 [==============================] - 280s 525ms/step - loss: 0.2496 - categorical_accuracy: 0.9031\n",
            "Epoch 6/10\n",
            "534/534 [==============================] - 279s 523ms/step - loss: 0.2119 - categorical_accuracy: 0.9196\n",
            "Epoch 7/10\n",
            "534/534 [==============================] - 279s 522ms/step - loss: 0.1848 - categorical_accuracy: 0.9286\n",
            "Epoch 8/10\n",
            "534/534 [==============================] - 281s 526ms/step - loss: 0.1641 - categorical_accuracy: 0.9386\n",
            "Epoch 9/10\n",
            "534/534 [==============================] - 279s 522ms/step - loss: 0.1431 - categorical_accuracy: 0.9472\n",
            "Epoch 10/10\n",
            "534/534 [==============================] - 279s 523ms/step - loss: 0.1299 - categorical_accuracy: 0.9522\n"
          ]
        }
      ]
    },
    {
      "cell_type": "code",
      "source": [
        "history_dict = history.history\n",
        "print(history_dict.keys())"
      ],
      "metadata": {
        "colab": {
          "base_uri": "https://localhost:8080/"
        },
        "id": "I74nAcK0HAkw",
        "outputId": "f0f27066-dcf7-4074-84b0-1bf3721f4f68"
      },
      "execution_count": null,
      "outputs": [
        {
          "output_type": "stream",
          "name": "stdout",
          "text": [
            "dict_keys(['loss', 'categorical_accuracy'])\n"
          ]
        }
      ]
    },
    {
      "cell_type": "markdown",
      "source": [
        "# Accuracy and Model Evaluation"
      ],
      "metadata": {
        "id": "75sNFq4AE7HH"
      }
    },
    {
      "cell_type": "code",
      "source": [
        "loss, accuracy = classifier_model.evaluate(test_dataset)\n",
        "\n",
        "print(f'Loss: {loss}')\n",
        "print(f'Accuracy: {accuracy}')"
      ],
      "metadata": {
        "colab": {
          "base_uri": "https://localhost:8080/"
        },
        "id": "onNxiVw31pfv",
        "outputId": "e667e3a3-1aa0-4e73-aef8-f43b573952d3"
      },
      "execution_count": null,
      "outputs": [
        {
          "output_type": "stream",
          "name": "stdout",
          "text": [
            "134/134 [==============================] - 41s 304ms/step - loss: 0.5916 - categorical_accuracy: 0.8413\n",
            "Loss: 0.591605544090271\n",
            "Accuracy: 0.8413033485412598\n"
          ]
        }
      ]
    },
    {
      "cell_type": "code",
      "source": [
        "test_dataset"
      ],
      "metadata": {
        "colab": {
          "base_uri": "https://localhost:8080/"
        },
        "id": "bFNTFXoW2u0F",
        "outputId": "789b1f03-5864-45d9-b2c1-2f4fb2b11215"
      },
      "execution_count": null,
      "outputs": [
        {
          "output_type": "execute_result",
          "data": {
            "text/plain": [
              "<PrefetchDataset element_spec=(TensorSpec(shape=(None, 1), dtype=tf.string, name=None), TensorSpec(shape=(None,), dtype=tf.int64, name=None))>"
            ]
          },
          "metadata": {},
          "execution_count": 70
        }
      ]
    },
    {
      "cell_type": "code",
      "source": [
        "saved_model_path = '/content/drive/MyDrive/disney/disney_bert'.format(dataset_name.replace('/', '_'))\n",
        "\n",
        "classifier_model.save(saved_model_path, include_optimizer=False)"
      ],
      "metadata": {
        "colab": {
          "base_uri": "https://localhost:8080/"
        },
        "id": "hGaIbjsuzhCU",
        "outputId": "9e42fe8a-a7bb-4a0b-ca61-275381f5c024"
      },
      "execution_count": null,
      "outputs": [
        {
          "output_type": "stream",
          "name": "stderr",
          "text": [
            "WARNING:absl:Found untraced functions such as restored_function_body, restored_function_body, restored_function_body, restored_function_body, restored_function_body while saving (showing 5 of 124). These functions will not be directly callable after loading.\n"
          ]
        }
      ]
    },
    {
      "cell_type": "code",
      "source": [
        "model = tf.saved_model.load('/content/drive/MyDrive/disney/disney_bert')"
      ],
      "metadata": {
        "id": "lfhnqLcN00gA"
      },
      "execution_count": 6,
      "outputs": []
    },
    {
      "cell_type": "code",
      "source": [
        "model(tf.constant([\"The experience was not bad\",\"Ride was nice\"])).numpy()"
      ],
      "metadata": {
        "colab": {
          "base_uri": "https://localhost:8080/"
        },
        "id": "uuZRUjdI0jfz",
        "outputId": "7deb217d-603a-4100-f1f5-adbc4880e5cc"
      },
      "execution_count": 7,
      "outputs": [
        {
          "output_type": "execute_result",
          "data": {
            "text/plain": [
              "array([[ 0.59167236,  1.6039991 , -0.02576608],\n",
              "       [ 5.2132716 ,  0.7512849 , -4.603256  ]], dtype=float32)"
            ]
          },
          "metadata": {},
          "execution_count": 7
        }
      ]
    },
    {
      "cell_type": "markdown",
      "source": [
        "# Prediction for Manual Input\n"
      ],
      "metadata": {
        "id": "tAN2y19nFFNf"
      }
    },
    {
      "cell_type": "code",
      "source": [
        "def predict_Sentiment(text):\n",
        "  t = tf.constant(text)\n",
        "  for sent , res in zip(text,model(t).numpy()):\n",
        "    pred = res\n",
        "    dics = {0:\"Satisfied\",1:\"Neutral\",2:\"Unsatisfied\"}\n",
        "    pred = np.where(pred == max(pred))\n",
        "    print(\"Review: \", sent)\n",
        "    print(\"Sentiment: \",\"\\033[1m\"+dics[pred[0][0]])"
      ],
      "metadata": {
        "id": "uXxID25f5r5Y"
      },
      "execution_count": 15,
      "outputs": []
    },
    {
      "cell_type": "code",
      "source": [
        "predict_Sentiment([\"The experience was not that bad,Rides are fine\"])"
      ],
      "metadata": {
        "colab": {
          "base_uri": "https://localhost:8080/"
        },
        "id": "PUmttaF_3oSU",
        "outputId": "d7fb0e90-15a9-4538-dddf-46d175e8127d"
      },
      "execution_count": 16,
      "outputs": [
        {
          "output_type": "stream",
          "name": "stdout",
          "text": [
            "Review  The experience was not that bad,Rides are fine\n",
            "Sentiment \u001b[1mNeutral\n"
          ]
        }
      ]
    },
    {
      "cell_type": "code",
      "source": [
        "predict_Sentiment([\"First, let me say the staff are wonderful, the ride operators smiling and engaging, the parades professionally done, it is kept free of litter and the food obviously delivered and prepared with as much care as they can (must be awful for French people to have to serve such rubbish).But honestly, the rides are a joke. You get better rides on Great Yarmouth seafront and without having to queue for an hour. The whole park is a little shabby, it is intensley overcrowded. We have been saving our Eurodisney trip for a time when our children could remember it well as it is such an expensive day out, but we would have been better staying in England and going to the seafront.I was well planned, I'd checked all the  rides  and picked out the ones that suited our family, I even researched the  restaurants  so I knew where the options were to eat. Everyone warns about the queues so I didn't want to waste time wondering where to eat or which ride to go on next. On the website there are beautiful, prettily lit pictures talking about Bavarian and African themed restaurants. What they don't tell you is that they are basically just McDonalds Fast food joints with a kebab for the African theme, or a pretzel for the Bavarian. I can see why they do it with such an excessive amount of people coming through the doors, it is probably the best quickest way to serve food, but it is grossly over advertised. My children were so excited to eat in a Lion King inspired restaurant and were disappointed that they were basically in a McDonalds painted in sand colours with a couple of pictures of Pumba and Timon.Similar story with the rides. On the website they talk about a magical ride, an exciting adventure. The best ones were the things you could wander through, like the Sleeping Beauty castle or the Alladdin's cave. But really paying that price so you can wander through a couple of rooms with pictures of the films on them?And waiting over half an hour for a very substandard ghost train (Snow white and the seven dwarves) or a little cart that takes you through scenes from Pinocchio (if you've been to Cadbury World, it isn't as good as the chocobean ride which is silly and cheesy, but a bit of fun, no queue and you get chocolate at the end!) There is a great cart ride in Blackpool Pleasure Beach and you don't have to save up for months to go on it.Getting there was also a hassle, we bought a Eurostar ticket, confidently proclaiming quick and easy access to the park. We (and many more families) were given a ticket with a changeover in Lille of 30 minutes, we were given the option of choosing our seat numbers, which we did, only to find when we finally got to the station because we'd changed the seats we weren't able to go through and someone else had been given our seat s and we were issued with other (separating both me and my husband from our two children   luckily a woman swapped seats with me so I could be near the girls, but she didn't have to). There were a number of families who were rushed and hassled, and though we all got onto the train intact, it was not a great way to end the trip, and as a lasting impression of the day a very sad end for the children.Well done to the hardworking sad, shame on you those grabbing the money hand over fist for such a substandard attraction.\"])"
      ],
      "metadata": {
        "colab": {
          "base_uri": "https://localhost:8080/"
        },
        "id": "WlvelEuWJJyD",
        "outputId": "48328bec-a34b-4b5a-c7c6-29bedeb3423f"
      },
      "execution_count": 18,
      "outputs": [
        {
          "output_type": "stream",
          "name": "stdout",
          "text": [
            "Review  First, let me say the staff are wonderful, the ride operators smiling and engaging, the parades professionally done, it is kept free of litter and the food obviously delivered and prepared with as much care as they can (must be awful for French people to have to serve such rubbish).But honestly, the rides are a joke. You get better rides on Great Yarmouth seafront and without having to queue for an hour. The whole park is a little shabby, it is intensley overcrowded. We have been saving our Eurodisney trip for a time when our children could remember it well as it is such an expensive day out, but we would have been better staying in England and going to the seafront.I was well planned, I'd checked all the  rides  and picked out the ones that suited our family, I even researched the  restaurants  so I knew where the options were to eat. Everyone warns about the queues so I didn't want to waste time wondering where to eat or which ride to go on next. On the website there are beautiful, prettily lit pictures talking about Bavarian and African themed restaurants. What they don't tell you is that they are basically just McDonalds Fast food joints with a kebab for the African theme, or a pretzel for the Bavarian. I can see why they do it with such an excessive amount of people coming through the doors, it is probably the best quickest way to serve food, but it is grossly over advertised. My children were so excited to eat in a Lion King inspired restaurant and were disappointed that they were basically in a McDonalds painted in sand colours with a couple of pictures of Pumba and Timon.Similar story with the rides. On the website they talk about a magical ride, an exciting adventure. The best ones were the things you could wander through, like the Sleeping Beauty castle or the Alladdin's cave. But really paying that price so you can wander through a couple of rooms with pictures of the films on them?And waiting over half an hour for a very substandard ghost train (Snow white and the seven dwarves) or a little cart that takes you through scenes from Pinocchio (if you've been to Cadbury World, it isn't as good as the chocobean ride which is silly and cheesy, but a bit of fun, no queue and you get chocolate at the end!) There is a great cart ride in Blackpool Pleasure Beach and you don't have to save up for months to go on it.Getting there was also a hassle, we bought a Eurostar ticket, confidently proclaiming quick and easy access to the park. We (and many more families) were given a ticket with a changeover in Lille of 30 minutes, we were given the option of choosing our seat numbers, which we did, only to find when we finally got to the station because we'd changed the seats we weren't able to go through and someone else had been given our seat s and we were issued with other (separating both me and my husband from our two children   luckily a woman swapped seats with me so I could be near the girls, but she didn't have to). There were a number of families who were rushed and hassled, and though we all got onto the train intact, it was not a great way to end the trip, and as a lasting impression of the day a very sad end for the children.Well done to the hardworking sad, shame on you those grabbing the money hand over fist for such a substandard attraction.\n",
            "Sentiment \u001b[1mUnsatisfied\n"
          ]
        }
      ]
    },
    {
      "cell_type": "markdown",
      "source": [
        "## Example Review from user\n",
        "\n",
        "First, let me say the staff are wonderful, the ride operators smiling and engaging, the parades professionally done, it is kept free of litter and the food obviously delivered and prepared with as much care as they can (must be awful for French people to have to serve such rubbish).But honestly, the rides are a joke. You get better rides on Great Yarmouth seafront and without having to queue for an hour. The whole park is a little shabby, it is intensley overcrowded. We have been saving our Eurodisney trip for a time when our children could remember it well as it is such an expensive day out, but we would have been better staying in England and going to the seafront.I was well planned, I'd checked all the  rides  and picked out the ones that suited our family, I even researched the  restaurants  so I knew where the options were to eat. Everyone warns about the queues so I didn't want to waste time wondering where to eat or which ride to go on next. On the website there are beautiful, prettily lit pictures talking about Bavarian and African themed restaurants. What they don't tell you is that they are basically just McDonalds Fast food joints with a kebab for the African theme, or a pretzel for the Bavarian. I can see why they do it with such an excessive amount of people coming through the doors, it is probably the best quickest way to serve food, but it is grossly over advertised. My children were so excited to eat in a Lion King inspired restaurant and were disappointed that they were basically in a McDonalds painted in sand colours with a couple of pictures of Pumba and Timon.Similar story with the rides. On the website they talk about a magical ride, an exciting adventure. The best ones were the things you could wander through, like the Sleeping Beauty castle or the Alladdin's cave. But really paying that price so you can wander through a couple of rooms with pictures of the films on them?And waiting over half an hour for a very substandard ghost train (Snow white and the seven dwarves) or a little cart that takes you through scenes from Pinocchio (if you've been to Cadbury World, it isn't as good as the chocobean ride which is silly and cheesy, but a bit of fun, no queue and you get chocolate at the end!) There is a great cart ride in Blackpool Pleasure Beach and you don't have to save up for months to go on it.Getting there was also a hassle, we bought a Eurostar ticket, confidently proclaiming quick and easy access to the park. We (and many more families) were given a ticket with a changeover in Lille of 30 minutes, we were given the option of choosing our seat numbers, which we did, only to find when we finally got to the station because we'd changed the seats we weren't able to go through and someone else had been given our seat s and we were issued with other (separating both me and my husband from our two children   luckily a woman swapped seats with me so I could be near the girls, but she didn't have to). There were a number of families who were rushed and hassled, and though we all got onto the train intact, it was not a great way to end the trip, and as a lasting impression of the day a very sad end for the children.Well done to the hardworking sad, shame on you those grabbing the money hand over fist for such a substandard attraction."
      ],
      "metadata": {
        "id": "tbwlBTndJZH9"
      }
    },
    {
      "cell_type": "code",
      "source": [
        "predict_Sentiment([\"First, let me say the staff are wonderful, the ride operators smiling and engaging, the parades professionally done, it is kept free of litter and the food obviously delivered and prepared with as much care as they can (must be awful for French people to have to serve such rubbish).But honestly, the rides are a joke. You get better rides on Great Yarmouth seafront and without having to queue for an hour. The whole park is a little shabby, it is intensley overcrowded. We have been saving our Eurodisney trip for a time when our children could remember it well as it is such an expensive day out, but we would have been better staying in England and going to the seafront.I was well planned, I'd checked all the  rides  and picked out the ones that suited our family, I even researched the  restaurants  so I knew where the options were to eat. Everyone warns about the queues so I didn't want to waste time wondering where to eat or which ride to go on next. On the website there are beautiful, prettily lit pictures talking about Bavarian and African themed restaurants. What they don't tell you is that they are basically just McDonalds Fast food joints with a kebab for the African theme, or a pretzel for the Bavarian. I can see why they do it with such an excessive amount of people coming through the doors, it is probably the best quickest way to serve food, but it is grossly over advertised. My children were so excited to eat in a Lion King inspired restaurant and were disappointed that they were basically in a McDonalds painted in sand colours with a couple of pictures of Pumba and Timon.Similar story with the rides. On the website they talk about a magical ride, an exciting adventure. The best ones were the things you could wander through, like the Sleeping Beauty castle or the Alladdin's cave. But really paying that price so you can wander through a couple of rooms with pictures of the films on them?And waiting over half an hour for a very substandard ghost train (Snow white and the seven dwarves) or a little cart that takes you through scenes from Pinocchio (if you've been to Cadbury World, it isn't as good as the chocobean ride which is silly and cheesy, but a bit of fun, no queue and you get chocolate at the end!) There is a great cart ride in Blackpool Pleasure Beach and you don't have to save up for months to go on it.Getting there was also a hassle, we bought a Eurostar ticket, confidently proclaiming quick and easy access to the park. We (and many more families) were given a ticket with a changeover in Lille of 30 minutes, we were given the option of choosing our seat numbers, which we did, only to find when we finally got to the station because we'd changed the seats we weren't able to go through and someone else had been given our seat s and we were issued with other (separating both me and my husband from our two children   luckily a woman swapped seats with me so I could be near the girls, but she didn't have to). There were a number of families who were rushed and hassled, and though we all got onto the train intact, it was not a great way to end the trip, and as a lasting impression of the day a very sad end for the children.Well done to the hardworking sad, shame on you those grabbing the money hand over fist for such a substandard attraction.\"])"
      ],
      "metadata": {
        "colab": {
          "base_uri": "https://localhost:8080/"
        },
        "id": "Ay1IM4shHlp-",
        "outputId": "69823a8e-9c3f-4e13-c271-4020b5cfca81"
      },
      "execution_count": 17,
      "outputs": [
        {
          "output_type": "stream",
          "name": "stdout",
          "text": [
            "Review  First, let me say the staff are wonderful, the ride operators smiling and engaging, the parades professionally done, it is kept free of litter and the food obviously delivered and prepared with as much care as they can (must be awful for French people to have to serve such rubbish).But honestly, the rides are a joke. You get better rides on Great Yarmouth seafront and without having to queue for an hour. The whole park is a little shabby, it is intensley overcrowded. We have been saving our Eurodisney trip for a time when our children could remember it well as it is such an expensive day out, but we would have been better staying in England and going to the seafront.I was well planned, I'd checked all the  rides  and picked out the ones that suited our family, I even researched the  restaurants  so I knew where the options were to eat. Everyone warns about the queues so I didn't want to waste time wondering where to eat or which ride to go on next. On the website there are beautiful, prettily lit pictures talking about Bavarian and African themed restaurants. What they don't tell you is that they are basically just McDonalds Fast food joints with a kebab for the African theme, or a pretzel for the Bavarian. I can see why they do it with such an excessive amount of people coming through the doors, it is probably the best quickest way to serve food, but it is grossly over advertised. My children were so excited to eat in a Lion King inspired restaurant and were disappointed that they were basically in a McDonalds painted in sand colours with a couple of pictures of Pumba and Timon.Similar story with the rides. On the website they talk about a magical ride, an exciting adventure. The best ones were the things you could wander through, like the Sleeping Beauty castle or the Alladdin's cave. But really paying that price so you can wander through a couple of rooms with pictures of the films on them?And waiting over half an hour for a very substandard ghost train (Snow white and the seven dwarves) or a little cart that takes you through scenes from Pinocchio (if you've been to Cadbury World, it isn't as good as the chocobean ride which is silly and cheesy, but a bit of fun, no queue and you get chocolate at the end!) There is a great cart ride in Blackpool Pleasure Beach and you don't have to save up for months to go on it.Getting there was also a hassle, we bought a Eurostar ticket, confidently proclaiming quick and easy access to the park. We (and many more families) were given a ticket with a changeover in Lille of 30 minutes, we were given the option of choosing our seat numbers, which we did, only to find when we finally got to the station because we'd changed the seats we weren't able to go through and someone else had been given our seat s and we were issued with other (separating both me and my husband from our two children   luckily a woman swapped seats with me so I could be near the girls, but she didn't have to). There were a number of families who were rushed and hassled, and though we all got onto the train intact, it was not a great way to end the trip, and as a lasting impression of the day a very sad end for the children.Well done to the hardworking sad, shame on you those grabbing the money hand over fist for such a substandard attraction.\n",
            "Sentiment \u001b[1mUnsatisfied\n"
          ]
        }
      ]
    },
    {
      "cell_type": "code",
      "source": [],
      "metadata": {
        "id": "JAyT77oMI5rm"
      },
      "execution_count": null,
      "outputs": []
    }
  ]
}